{
 "cells": [
  {
   "cell_type": "code",
   "execution_count": 37,
   "metadata": {},
   "outputs": [],
   "source": [
    "import json\n",
    "import ast"
   ]
  },
  {
   "cell_type": "code",
   "execution_count": 17,
   "metadata": {},
   "outputs": [],
   "source": [
    "errors_by_type = {\n",
    "    \"main-parent-inconsistency\": [],\n",
    "    \"main-parent-missing-info\": [],\n",
    "    \"duplicate\": []\n",
    "}\n",
    "\n",
    "with open(\"./analysis.log\", 'r') as fh:\n",
    "    prev_entry = None\n",
    "    for _line in fh:\n",
    "        line = _line.strip()\n",
    "        if \"error\" in line.lower():\n",
    "            # what type?\n",
    "            if \"!=\" in line:\n",
    "                err_type = \"main-parent-inconsistency\"\n",
    "            elif \"Parent missing\" in line:\n",
    "                err_type = \"main-parent-missing-info\"\n",
    "            elif \"DUPLICATE\" in line:\n",
    "                err_type = \"duplicate\"\n",
    "            errors_by_type[err_type].append([line, prev_entry])\n",
    "        if \"{\" in line:\n",
    "            prev_entry = line"
   ]
  },
  {
   "cell_type": "code",
   "execution_count": 18,
   "metadata": {},
   "outputs": [
    {
     "name": "stdout",
     "output_type": "stream",
     "text": [
      "main-parent-inconsistency - 27\n",
      "main-parent-missing-info - 39\n",
      "duplicate - 70\n"
     ]
    }
   ],
   "source": [
    "for key, val in errors_by_type.items():\n",
    "    print(f\"{key} - {len(val)}\")"
   ]
  },
  {
   "cell_type": "code",
   "execution_count": 44,
   "metadata": {},
   "outputs": [
    {
     "name": "stdout",
     "output_type": "stream",
     "text": [
      "ParentsError: ce975d16-6beb-4bbd-bee0-4bf744a18a3f != 75d380c3-3e01-4ebf-b859-0c33f46b8f1f\n",
      "{\n",
      "  \"abundance\": 0.028999999999999998,\n",
      "  \"initial_3D_spg\": \"P31m\",\n",
      "  \"binding_energy_per_substructure_per_unit_area_rvv10\": {\n",
      "    \"value\": 0.0365832503101697,\n",
      "    \"uuid\": \"ce975d16-6beb-4bbd-bee0-4bf744a18a3f\"\n",
      "  },\n",
      "  \"number_of_atoms\": 14,\n",
      "  \"bands_uuid\": \"e6d810d0-262d-4587-b33a-2393d49d9970\",\n",
      "  \"initial_3D_bulk_structure_uuid\": \"702aad5e-314e-47bf-91fb-c9de34dda6b0\",\n",
      "  \"band_gap\": {\n",
      "    \"value\": 0,\n",
      "    \"uuid\": \"4b7765c9-f18f-4b8b-abda-d331b4a9a769\"\n",
      "  },\n",
      "  \"initial_3D_formula\": \"Mg3Si2O9\",\n",
      "  \"point_group\": \"3m\",\n",
      "  \"binding_energy_per_substructure_per_unit_area_df2\": {\n",
      "    \"value\": 0.0279079729412301,\n",
      "    \"uuid\": \"7a4d1221-60e4-4ffd-b267-f45bff2ea96b\"\n",
      "  },\n",
      "  \"formula\": \"Mg3Si2O9\",\n",
      "  \"all_3D_parents\": [\n",
      "    {\n",
      "      \"db_id\": \"9004509\",\n",
      "      \"binding_energy_per_substructure_per_unit_area_rvv10\": {\n",
      "        \"value\": 0.0366066353298654,\n",
      "        \"uuid\": \"75d380c3-3e01-4ebf-b859-0c33f46b8f1f\"\n",
      "      },\n",
      "      \"uuid\": \"702aad5e-314e-47bf-91fb-c9de34dda6b0\",\n",
      "      \"delta_df2\": {\n",
      "        \"value\": 0.278678793832558,\n",
      "        \"uuid\": \"75d0d5f8-9f02-458f-a953-63e79de1db72\"\n",
      "      },\n",
      "      \"binding_energy_per_substructure_per_unit_area_df2\": {\n",
      "        \"value\": 0.0279079729412301,\n",
      "        \"uuid\": \"7a4d1221-60e4-4ffd-b267-f45bff2ea96b\"\n",
      "      },\n",
      "      \"source_db\": \"COD\",\n",
      "      \"formula\": \"Mg3Si2O9\",\n",
      "      \"delta_rvv10\": {\n",
      "        \"value\": 0.272440184702249,\n",
      "        \"uuid\": \"4743f2d0-6fa5-4a7c-a37d-07b3633eca19\"\n",
      "      },\n",
      "      \"spg\": \"P31m\"\n",
      "    },\n",
      "    {\n",
      "      \"db_id\": \"9004512\",\n",
      "      \"binding_energy_per_substructure_per_unit_area_rvv10\": {\n",
      "        \"value\": 0.0365832503101697,\n",
      "        \"uuid\": \"ce975d16-6beb-4bbd-bee0-4bf744a18a3f\"\n",
      "      },\n",
      "      \"uuid\": \"0052d91b-2118-4a0b-88af-a48203efc54a\",\n",
      "      \"delta_df2\": {\n",
      "        \"value\": 0.274901330760177,\n",
      "        \"uuid\": \"fba0db9f-8213-427e-86cb-6ac6dd5278d0\"\n",
      "      },\n",
      "      \"binding_energy_per_substructure_per_unit_area_df2\": {\n",
      "        \"value\": 0.0279971451624013,\n",
      "        \"uuid\": \"0bd6c8cf-f016-4b30-ad90-20b664e4813d\"\n",
      "      },\n",
      "      \"source_db\": \"COD\",\n",
      "      \"formula\": \"Mg6Si4O18\",\n",
      "      \"delta_rvv10\": {\n",
      "        \"value\": 0.267782874143736,\n",
      "        \"uuid\": \"bbb90f46-53dd-423e-8d1f-347f351134c6\"\n",
      "      },\n",
      "      \"spg\": \"P6_3cm\"\n",
      "    }\n",
      "  ],\n",
      "  \"initial_3D_source_db\": \"COD\",\n",
      "  \"relaxed_3D_bulk_structure_rvv10_uuid\": \"f5738767-92c4-42df-b83f-cbcf20c96aba\",\n",
      "  \"space_group\": \"P31m (157)\",\n",
      "  \"number_of_species\": 3,\n",
      "  \"as_extracted_2D_structure_uuid\": \"32861904-decd-4fb0-953b-4a70de9b1309\",\n",
      "  \"relaxed_3D_bulk_structure_df2_uuid\": \"e8417e9f-7857-45b9-a3d9-41c51b1d489c\",\n",
      "  \"prototype\": \"Mg3O9Si2\",\n",
      "  \"initial_3D_db_id\": \"9004509\",\n",
      "  \"optimized_2D_structure_uuid\": \"d9d888a9-11a4-4faf-af4e-e2070b9d708b\"\n",
      "}\n"
     ]
    }
   ],
   "source": [
    "n = 5\n",
    "print(errors_by_type[\"main-parent-inconsistency\"][n][0])\n",
    "d = ast.literal_eval(errors_by_type[\"main-parent-inconsistency\"][n][1])\n",
    "print(json.dumps(d, indent=2))"
   ]
  }
 ],
 "metadata": {
  "kernelspec": {
   "display_name": "aiida-mat2D_2",
   "language": "python",
   "name": "python3"
  },
  "language_info": {
   "codemirror_mode": {
    "name": "ipython",
    "version": 3
   },
   "file_extension": ".py",
   "mimetype": "text/x-python",
   "name": "python",
   "nbconvert_exporter": "python",
   "pygments_lexer": "ipython3",
   "version": "3.8.10"
  }
 },
 "nbformat": 4,
 "nbformat_minor": 2
}
