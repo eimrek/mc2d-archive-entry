{
 "cells": [
  {
   "cell_type": "code",
   "execution_count": 3,
   "metadata": {},
   "outputs": [],
   "source": [
    "import json\n",
    "import aiida\n",
    "from aiida import orm\n",
    "from aiida.orm import load_node, load_group"
   ]
  },
  {
   "cell_type": "markdown",
   "metadata": {},
   "source": [
    "### Investigating MC2D archive entry: https://archive.materialscloud.org/record/2022.84"
   ]
  },
  {
   "cell_type": "markdown",
   "metadata": {},
   "source": [
    "### Non-aiida files"
   ]
  },
  {
   "cell_type": "code",
   "execution_count": 12,
   "metadata": {},
   "outputs": [
    {
     "name": "stdout",
     "output_type": "stream",
     "text": [
      "total number of entries: 3078\n"
     ]
    }
   ],
   "source": [
    "with open('../archive-data/structure_2d.json') as f:\n",
    "    structure_2d_json = json.load(f)\n",
    "\n",
    "print(f\"total number of entries: {len(structure_2d_json)}\")"
   ]
  },
  {
   "cell_type": "code",
   "execution_count": 9,
   "metadata": {},
   "outputs": [
    {
     "data": {
      "text/plain": [
       "['abundance',\n",
       " 'initial_3D_spg',\n",
       " 'band_gap',\n",
       " 'number_of_atoms',\n",
       " 'bands_uuid',\n",
       " 'initial_3D_bulk_structure_uuid',\n",
       " 'initial_3D_formula',\n",
       " 'point_group',\n",
       " 'binding_energy_per_substructure_per_unit_area_df2',\n",
       " 'formula',\n",
       " 'all_3D_parents',\n",
       " 'initial_3D_source_db',\n",
       " 'space_group',\n",
       " 'number_of_species',\n",
       " 'as_extracted_2D_structure_uuid',\n",
       " 'relaxed_3D_bulk_structure_df2_uuid',\n",
       " 'prototype',\n",
       " 'initial_3D_db_id',\n",
       " 'optimized_2D_structure_uuid']"
      ]
     },
     "execution_count": 9,
     "metadata": {},
     "output_type": "execute_result"
    }
   ],
   "source": [
    "# list keys in the data\n",
    "list(structure_2d_json[0].keys())"
   ]
  },
  {
   "cell_type": "code",
   "execution_count": 13,
   "metadata": {},
   "outputs": [
    {
     "name": "stdout",
     "output_type": "stream",
     "text": [
      "number of entries with optimized_2D_structure_uuid: 2742\n"
     ]
    }
   ],
   "source": [
    "# collect all the optimized_2D_structure_uuid\n",
    "uuids_json = set()\n",
    "for s in structure_2d_json:\n",
    "    if 'optimized_2D_structure_uuid' in s:\n",
    "        uuids_json.add(s['optimized_2D_structure_uuid'])\n",
    "\n",
    "print(f\"number of entries with optimized_2D_structure_uuid: {len(uuids_json)}\")"
   ]
  },
  {
   "cell_type": "code",
   "execution_count": 15,
   "metadata": {},
   "outputs": [
    {
     "name": "stdout",
     "output_type": "stream",
     "text": [
      "True\n"
     ]
    }
   ],
   "source": [
    "# confirm that the optimized_2d_structures.zip file contains all the same uuids:\n",
    "\n",
    "from pathlib import Path\n",
    "\n",
    "uuids_cif = set()\n",
    "\n",
    "for file in Path('../archive-data/optimized_2d_structures/optimized_structures_new').glob('*.cif'):\n",
    "    uuids_cif.add(file.stem)\n",
    "\n",
    "print(uuids_cif == uuids_json)"
   ]
  },
  {
   "cell_type": "markdown",
   "metadata": {},
   "source": [
    "### AiiDA data"
   ]
  },
  {
   "cell_type": "code",
   "execution_count": 16,
   "metadata": {},
   "outputs": [
    {
     "data": {
      "text/plain": [
       "Profile<uuid='7436edf268b9495aac39b8799ae8bf77' name='mc2d_test'>"
      ]
     },
     "execution_count": 16,
     "metadata": {},
     "output_type": "execute_result"
    }
   ],
   "source": [
    "# made a clean profile and imported MC2D_export_20220622.aiida\n",
    "\n",
    "aiida.load_profile(\"mc2d_test\")"
   ]
  },
  {
   "cell_type": "code",
   "execution_count": 17,
   "metadata": {},
   "outputs": [
    {
     "name": "stdout",
     "output_type": "stream",
     "text": [
      "\u001b[22m  PK  Label                                                                               Type string    User                           Node count\n",
      "----  ----------------------------------------------------------------------------------  -------------  ---------------------------  ------------\n",
      "  21  20220621-191136                                                                     core.import    aiida@prnmarvelsrv3.epfl.ch        406009\n",
      "   1  20220622-101846                                                                     core.import    aiida@prnmarvelsrv3.epfl.ch        113209\n",
      "  24  20240416-234347                                                                     core.import    info@materialscloud.org            518934\n",
      "   5  absolute_magnetization                                                              core           aiida@prnmarvelsrv3.epfl.ch            56\n",
      "  20  all_MC2D_uuids_20220613                                                             core           aiida@prnmarvelsrv3.epfl.ch         23563\n",
      "   8  band_gap                                                                            core           aiida@prnmarvelsrv3.epfl.ch          2568\n",
      "  18  bands_2D                                                                            core           aiida@prnmarvelsrv3.epfl.ch          2568\n",
      "  12  binding_energy_per_substructure_per_unit_area_df2                                   core           aiida@prnmarvelsrv3.epfl.ch          2907\n",
      "  16  binding_energy_per_substructure_per_unit_area_rvv10                                 core           aiida@prnmarvelsrv3.epfl.ch          1788\n",
      "  10  delta_df2                                                                           core           aiida@prnmarvelsrv3.epfl.ch          1163\n",
      "  15  delta_rvv10                                                                         core           aiida@prnmarvelsrv3.epfl.ch          1134\n",
      "   9  expanded_two_dimensional_database_bands_relaxed_2D_structures_pbe                   core           aiida@prnmarvelsrv3.epfl.ch          2568\n",
      "  23  expanded_two_dimensional_database_binding_energies_from_all_3D_parents              core           aiida@prnmarvelsrv3.epfl.ch          4695\n",
      "   7  expanded_two_dimensional_database_intial_2D_structures_as_extracted_from_3D_parent  core           aiida@prnmarvelsrv3.epfl.ch          2496\n",
      "  13  expanded_two_dimensional_database_pw_scf_relaxed_2D_structures_pbe                  core           aiida@prnmarvelsrv3.epfl.ch          2759\n",
      "  22  fermi_energy                                                                        core           aiida@prnmarvelsrv3.epfl.ch           258\n",
      "   3  initial_3D_bulk_structure                                                           core           aiida@prnmarvelsrv3.epfl.ch           634\n",
      "  19  phonons_2D                                                                          core           aiida@prnmarvelsrv3.epfl.ch           245\n",
      "   2  relaxed_3D_bulk_structure_df2                                                       core           aiida@prnmarvelsrv3.epfl.ch          2504\n",
      "   6  relaxed_3D_bulk_structure_revpbe                                                    core           aiida@prnmarvelsrv3.epfl.ch          1094\n",
      "   4  relaxed_3D_bulk_structure_rvv10                                                     core           aiida@prnmarvelsrv3.epfl.ch          1576\n",
      "  14  structure_2D                                                                        core           aiida@prnmarvelsrv3.epfl.ch          2759\n",
      "  17  structure_unrelaxed_2D                                                              core           aiida@prnmarvelsrv3.epfl.ch          2496\n",
      "  11  total_magnetization                                                                 core           aiida@prnmarvelsrv3.epfl.ch            56\u001b[0m\n"
     ]
    }
   ],
   "source": [
    "# see all groups\n",
    "\n",
    "! verdi group list --all --all-users --count"
   ]
  },
  {
   "cell_type": "code",
   "execution_count": 45,
   "metadata": {},
   "outputs": [
    {
     "name": "stdout",
     "output_type": "stream",
     "text": [
      "Number of nodes found corresponding to structure_2d.json: 2693\n"
     ]
    }
   ],
   "source": [
    "# check how many structure UUIDs specified in the json file are in the whole AiiDA database\n",
    "builder = orm.QueryBuilder().append(\n",
    "        orm.StructureData, project=['*'], tag='structure', filters={'uuid': {'in': uuids_json}}\n",
    "    )\n",
    "\n",
    "nodes_in_aiida = builder.all()\n",
    "print(f\"Number of nodes found corresponding to structure_2d.json: {len(nodes_in_aiida)}\")\n",
    "\n",
    "uuids_in_aiida = set(n[0].uuid for n in nodes_in_aiida)"
   ]
  },
  {
   "cell_type": "code",
   "execution_count": 46,
   "metadata": {},
   "outputs": [
    {
     "name": "stdout",
     "output_type": "stream",
     "text": [
      "Number of structure_2d.json uuids missing in AiiDA DB: 49\n"
     ]
    }
   ],
   "source": [
    "json_uuids_missing_in_aiida = uuids_json - uuids_in_aiida\n",
    "\n",
    "print(f\"Number of structure_2d.json uuids missing in AiiDA DB: {len(json_uuids_missing_in_aiida)}\")\n",
    "\n",
    "with open(\"json_uuids_missing_in_aiida.txt\", 'w') as fh:\n",
    "    for uuid in sorted(json_uuids_missing_in_aiida):\n",
    "        fh.write(uuid + \"\\n\")"
   ]
  },
  {
   "cell_type": "code",
   "execution_count": 47,
   "metadata": {},
   "outputs": [],
   "source": [
    "# check what UUIDS are in the \"structure_2D\" AiiDA group\n",
    "\n",
    "builder = orm.QueryBuilder().append(\n",
    "        orm.Group, filters={\"label\": \"structure_2D\"}, tag='group'\n",
    "    ).append(\n",
    "        orm.StructureData, with_group=\"group\", project=['*'], tag='structure'\n",
    "    )\n",
    "\n",
    "nodes_structure_2d = builder.all()\n",
    "\n",
    "uuids_structure_2d = set(n[0].uuid for n in nodes_structure_2d)"
   ]
  },
  {
   "cell_type": "code",
   "execution_count": 48,
   "metadata": {},
   "outputs": [
    {
     "name": "stdout",
     "output_type": "stream",
     "text": [
      "Number of structure_2d.json uuids missing in AiiDA structure_2d group: 57\n"
     ]
    }
   ],
   "source": [
    "json_uuids_missing_in_aiida_group = uuids_json - uuids_structure_2d\n",
    "\n",
    "print(f\"Number of structure_2d.json uuids missing in AiiDA structure_2d group: {len(json_uuids_missing_in_aiida_group)}\")\n",
    "\n",
    "with open(\"json_uuids_missing_in_aiida_group.txt\", 'w') as fh:\n",
    "    for uuid in sorted(json_uuids_missing_in_aiida_group):\n",
    "        fh.write(uuid + \"\\n\")"
   ]
  },
  {
   "cell_type": "code",
   "execution_count": 49,
   "metadata": {},
   "outputs": [
    {
     "name": "stdout",
     "output_type": "stream",
     "text": [
      "Number of AiiDA structure_2d group uuids missing in structure_2d.json: 74\n"
     ]
    }
   ],
   "source": [
    "aiida_group_uuids_missing_in_json = uuids_structure_2d - uuids_json\n",
    "\n",
    "print(f\"Number of AiiDA structure_2d group uuids missing in structure_2d.json: {len(aiida_group_uuids_missing_in_json)}\")\n",
    "\n",
    "with open(\"aiida_group_uuids_missing_in_json.txt\", 'w') as fh:\n",
    "    for uuid in sorted(aiida_group_uuids_missing_in_json):\n",
    "        fh.write(uuid + \"\\n\")"
   ]
  },
  {
   "cell_type": "code",
   "execution_count": null,
   "metadata": {},
   "outputs": [],
   "source": []
  }
 ],
 "metadata": {
  "kernelspec": {
   "display_name": "aiida",
   "language": "python",
   "name": "python3"
  },
  "language_info": {
   "codemirror_mode": {
    "name": "ipython",
    "version": 3
   },
   "file_extension": ".py",
   "mimetype": "text/x-python",
   "name": "python",
   "nbconvert_exporter": "python",
   "pygments_lexer": "ipython3",
   "version": "3.9.13"
  }
 },
 "nbformat": 4,
 "nbformat_minor": 2
}
